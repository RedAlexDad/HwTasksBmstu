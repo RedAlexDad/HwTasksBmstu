{
 "cells": [
  {
   "cell_type": "code",
   "execution_count": 1,
   "id": "b0f62006-c6e6-4625-a5a7-05d6b2bdbf85",
   "metadata": {},
   "outputs": [],
   "source": [
    "import mlflow\n",
    "from sklearn.model_selection import train_test_split\n",
    "from sklearn.datasets import load_diabetes\n",
    "from sklearn.ensemble import RandomForestRegressor"
   ]
  },
  {
   "cell_type": "code",
   "execution_count": null,
   "id": "31b407da-a6a4-4621-871c-9bb0d7548c09",
   "metadata": {},
   "outputs": [],
   "source": [
    "# set the experiment id\n",
    "mlflow.set_experiment(experiment_id=\"0\")\n",
    "\n",
    "mlflow.autolog()\n",
    "db = load_diabetes()"
   ]
  },
  {
   "cell_type": "code",
   "execution_count": null,
   "id": "2d9dac89-8df8-4de6-a6ea-54174d8b5454",
   "metadata": {},
   "outputs": [],
   "source": [
    "X_train, X_test, y_train, y_test = train_test_split(db.data, db.target)"
   ]
  },
  {
   "cell_type": "code",
   "execution_count": null,
   "id": "b12e637a-0a9a-499e-8213-e764ada18dca",
   "metadata": {},
   "outputs": [],
   "source": [
    "# Create and train models.\n",
    "rf = RandomForestRegressor(n_estimators=100, max_depth=6, max_features=3)\n",
    "rf.fit(X_train, y_train)"
   ]
  },
  {
   "cell_type": "code",
   "execution_count": null,
   "id": "a417dc37-a4e9-47b2-b892-2eda1e04507a",
   "metadata": {},
   "outputs": [],
   "source": [
    "# Use the model to make predictions on the test dataset.\n",
    "predictions = rf.predict(X_test)"
   ]
  },
  {
   "cell_type": "code",
   "execution_count": null,
   "id": "b59bc264-cc64-47cb-b553-6068a4c5f244",
   "metadata": {},
   "outputs": [],
   "source": []
  },
  {
   "cell_type": "code",
   "execution_count": null,
   "id": "f67bd9b6-d7cc-46fa-bf38-593fe9372bfd",
   "metadata": {},
   "outputs": [],
   "source": []
  }
 ],
 "metadata": {
  "kernelspec": {
   "display_name": "Python 3 (ipykernel)",
   "language": "python",
   "name": "python3"
  },
  "language_info": {
   "codemirror_mode": {
    "name": "ipython",
    "version": 3
   },
   "file_extension": ".py",
   "mimetype": "text/x-python",
   "name": "python",
   "nbconvert_exporter": "python",
   "pygments_lexer": "ipython3",
   "version": "3.11.7"
  }
 },
 "nbformat": 4,
 "nbformat_minor": 5
}
